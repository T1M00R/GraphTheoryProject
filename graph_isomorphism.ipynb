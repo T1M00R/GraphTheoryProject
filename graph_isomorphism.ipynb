{
 "cells": [
  {
   "attachments": {},
   "cell_type": "markdown",
   "metadata": {},
   "source": [
    "<h1>Graph Isomorphism Problem\n",
    "<h4>Timoor Nurzhanov"
   ]
  },
  {
   "attachments": {},
   "cell_type": "markdown",
   "metadata": {},
   "source": [
    "<h3>Introduction\n",
    "\n",
    "<h5>This project is a reflection of my understanding on the Graph Isomorphism Problem. \n",
    "The aim of this project is to demonstrate my understanding and research done on the aformentioned topic. As well as trying to simplify the topic so that I can explain it to the average person in terms that they would understand.  \n",
    " \n"
   ]
  },
  {
   "attachments": {},
   "cell_type": "markdown",
   "metadata": {},
   "source": [
    "<h3>References"
   ]
  },
  {
   "attachments": {},
   "cell_type": "markdown",
   "metadata": {},
   "source": [
    "<h3>Useful Definitions & Terms"
   ]
  }
 ],
 "metadata": {
  "language_info": {
   "name": "python"
  },
  "orig_nbformat": 4
 },
 "nbformat": 4,
 "nbformat_minor": 2
}
